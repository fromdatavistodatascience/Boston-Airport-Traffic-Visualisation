{
 "cells": [
  {
   "cell_type": "markdown",
   "metadata": {},
   "source": [
    "# Visualising the traffic around Boston Airport"
   ]
  },
  {
   "cell_type": "markdown",
   "metadata": {},
   "source": [
    "Aim of this notebook is to provide a codealong to be able to recreate the traffic from Square One Mall in Saugus, Massachusetts to Boston Logan Airport."
   ]
  },
  {
   "cell_type": "code",
   "execution_count": 1,
   "metadata": {},
   "outputs": [],
   "source": [
    "# Importing the necessary packages:\n",
    "import pandas as pd\n",
    "import numpy as np\n",
    "import json\n",
    "import requests"
   ]
  },
  {
   "cell_type": "code",
   "execution_count": 2,
   "metadata": {},
   "outputs": [],
   "source": [
    "#Retrieving my api keys information to access the Google API.\n",
    "def get_keys(path):\n",
    "    with open(path) as f:\n",
    "        return json.load(f)\n",
    "    \n",
    "keys = get_keys(\"/Users/jjherranzsarrion/.secret/google_blog2_api.json\")\n",
    "\n",
    "api_key = keys['api_key']\n",
    "\n",
    "url = 'https://maps.googleapis.com/maps/api/directions/json?'\n",
    "\n",
    "origin = '323+Broadway+Saugus+MA+01906'\n",
    "destination = 'Terminal+C+Boston+Logan+International+Airport+Boston+MA+02128'\n",
    "departure_time = '1566819000' #time in seconds from midnight 1st Jan 1970 (Unix start time) until Monday 19th August at 07:30 AM. \n",
    " \n",
    "url_params = f\"origin={origin}&destination={destination}&departure_time={departure_time}&key={api_key}\"\n",
    "\n",
    "request_url = url + url_params\n",
    "    \n",
    "print(request_url)    \n",
    "    \n",
    "response = requests.get(request_url)\n",
    "print(type(response.text))\n",
    "print(response.text)\n",
    "\n",
    "with open('response.json', 'w') as f:\n",
    "    json.dump(response.json(), f)"
   ]
  },
  {
   "cell_type": "code",
   "execution_count": 21,
   "metadata": {},
   "outputs": [],
   "source": [
    "with open('response.json', 'r') as f:\n",
    "    directions = json.load(f)"
   ]
  },
  {
   "cell_type": "code",
   "execution_count": 22,
   "metadata": {},
   "outputs": [
    {
     "data": {
      "text/plain": [
       "dict_keys(['geocoded_waypoints', 'routes', 'status'])"
      ]
     },
     "execution_count": 22,
     "metadata": {},
     "output_type": "execute_result"
    }
   ],
   "source": [
    "directions.keys()"
   ]
  },
  {
   "cell_type": "code",
   "execution_count": 24,
   "metadata": {},
   "outputs": [],
   "source": [
    "route = directions['routes']"
   ]
  },
  {
   "cell_type": "code",
   "execution_count": 6,
   "metadata": {},
   "outputs": [],
   "source": [
    "root_steps = []\n",
    "for legs in route:\n",
    "    for steps in legs['legs']:\n",
    "        for coordinates in steps['steps']:\n",
    "            root_steps.append(coordinates['start_location'])\n",
    "\n",
    "#Chosen to only select the start coordinate of each step given that the end coordinate of step 0 \n",
    "#is the start coordinate of step 1. The last coordinate is added at the end of the loop."
   ]
  },
  {
   "cell_type": "code",
   "execution_count": 7,
   "metadata": {},
   "outputs": [],
   "source": [
    "# Unpacking the root_steps list to retrieve only latitude and longitude data. Adding weights to represent different\n",
    "# traffic congestions at each step of the root.\n",
    "\n",
    "weighted_coordinates = [(root_step['lat'], root_step['lng'], np.random.randint(1,4) ) for root_step in root_steps]"
   ]
  },
  {
   "cell_type": "code",
   "execution_count": 8,
   "metadata": {},
   "outputs": [],
   "source": [
    "weighted_coordinates_df = pd.DataFrame(weighted_coordinates, columns=['latitude', 'longitude', 'weight'])"
   ]
  },
  {
   "cell_type": "code",
   "execution_count": 9,
   "metadata": {},
   "outputs": [
    {
     "data": {
      "text/html": [
       "<div>\n",
       "<style scoped>\n",
       "    .dataframe tbody tr th:only-of-type {\n",
       "        vertical-align: middle;\n",
       "    }\n",
       "\n",
       "    .dataframe tbody tr th {\n",
       "        vertical-align: top;\n",
       "    }\n",
       "\n",
       "    .dataframe thead th {\n",
       "        text-align: right;\n",
       "    }\n",
       "</style>\n",
       "<table border=\"1\" class=\"dataframe\">\n",
       "  <thead>\n",
       "    <tr style=\"text-align: right;\">\n",
       "      <th></th>\n",
       "      <th>latitude</th>\n",
       "      <th>longitude</th>\n",
       "      <th>weight</th>\n",
       "    </tr>\n",
       "  </thead>\n",
       "  <tbody>\n",
       "    <tr>\n",
       "      <th>0</th>\n",
       "      <td>42.485146</td>\n",
       "      <td>-70.960539</td>\n",
       "      <td>1</td>\n",
       "    </tr>\n",
       "    <tr>\n",
       "      <th>1</th>\n",
       "      <td>42.473452</td>\n",
       "      <td>-70.976922</td>\n",
       "      <td>3</td>\n",
       "    </tr>\n",
       "    <tr>\n",
       "      <th>2</th>\n",
       "      <td>42.471169</td>\n",
       "      <td>-70.978031</td>\n",
       "      <td>2</td>\n",
       "    </tr>\n",
       "    <tr>\n",
       "      <th>3</th>\n",
       "      <td>42.468867</td>\n",
       "      <td>-70.976501</td>\n",
       "      <td>1</td>\n",
       "    </tr>\n",
       "    <tr>\n",
       "      <th>4</th>\n",
       "      <td>42.463469</td>\n",
       "      <td>-70.986506</td>\n",
       "      <td>3</td>\n",
       "    </tr>\n",
       "    <tr>\n",
       "      <th>5</th>\n",
       "      <td>42.461928</td>\n",
       "      <td>-70.986496</td>\n",
       "      <td>2</td>\n",
       "    </tr>\n",
       "    <tr>\n",
       "      <th>6</th>\n",
       "      <td>42.460390</td>\n",
       "      <td>-70.988740</td>\n",
       "      <td>2</td>\n",
       "    </tr>\n",
       "    <tr>\n",
       "      <th>7</th>\n",
       "      <td>42.455216</td>\n",
       "      <td>-70.990396</td>\n",
       "      <td>3</td>\n",
       "    </tr>\n",
       "    <tr>\n",
       "      <th>8</th>\n",
       "      <td>42.449546</td>\n",
       "      <td>-70.980647</td>\n",
       "      <td>1</td>\n",
       "    </tr>\n",
       "    <tr>\n",
       "      <th>9</th>\n",
       "      <td>42.421689</td>\n",
       "      <td>-71.004522</td>\n",
       "      <td>3</td>\n",
       "    </tr>\n",
       "    <tr>\n",
       "      <th>10</th>\n",
       "      <td>42.408770</td>\n",
       "      <td>-71.001764</td>\n",
       "      <td>1</td>\n",
       "    </tr>\n",
       "    <tr>\n",
       "      <th>11</th>\n",
       "      <td>42.376458</td>\n",
       "      <td>-71.028623</td>\n",
       "      <td>2</td>\n",
       "    </tr>\n",
       "    <tr>\n",
       "      <th>12</th>\n",
       "      <td>42.374785</td>\n",
       "      <td>-71.029710</td>\n",
       "      <td>2</td>\n",
       "    </tr>\n",
       "    <tr>\n",
       "      <th>13</th>\n",
       "      <td>42.371191</td>\n",
       "      <td>-71.027445</td>\n",
       "      <td>3</td>\n",
       "    </tr>\n",
       "    <tr>\n",
       "      <th>14</th>\n",
       "      <td>42.364970</td>\n",
       "      <td>-71.020226</td>\n",
       "      <td>3</td>\n",
       "    </tr>\n",
       "    <tr>\n",
       "      <th>15</th>\n",
       "      <td>42.365821</td>\n",
       "      <td>-71.018036</td>\n",
       "      <td>2</td>\n",
       "    </tr>\n",
       "  </tbody>\n",
       "</table>\n",
       "</div>"
      ],
      "text/plain": [
       "     latitude  longitude  weight\n",
       "0   42.485146 -70.960539       1\n",
       "1   42.473452 -70.976922       3\n",
       "2   42.471169 -70.978031       2\n",
       "3   42.468867 -70.976501       1\n",
       "4   42.463469 -70.986506       3\n",
       "5   42.461928 -70.986496       2\n",
       "6   42.460390 -70.988740       2\n",
       "7   42.455216 -70.990396       3\n",
       "8   42.449546 -70.980647       1\n",
       "9   42.421689 -71.004522       3\n",
       "10  42.408770 -71.001764       1\n",
       "11  42.376458 -71.028623       2\n",
       "12  42.374785 -71.029710       2\n",
       "13  42.371191 -71.027445       3\n",
       "14  42.364970 -71.020226       3\n",
       "15  42.365821 -71.018036       2"
      ]
     },
     "execution_count": 9,
     "metadata": {},
     "output_type": "execute_result"
    }
   ],
   "source": [
    "weighted_coordinates_df"
   ]
  },
  {
   "cell_type": "code",
   "execution_count": 25,
   "metadata": {},
   "outputs": [
    {
     "data": {
      "application/vnd.jupyter.widget-view+json": {
       "model_id": "dd5742e60fc24b8ebc570a9bd94f1942",
       "version_major": 2,
       "version_minor": 0
      },
      "text/plain": [
       "Figure(layout=FigureLayout(height='420px'))"
      ]
     },
     "metadata": {},
     "output_type": "display_data"
    }
   ],
   "source": [
    "import gmaps\n",
    "import gmaps.datasets\n",
    "%matplotlib inline\n",
    "\n",
    "gmaps.configure(api_key=api_key)\n",
    "\n",
    "locations = weighted_coordinates_df[['latitude', 'longitude']]\n",
    "weights = weighted_coordinates_df['weight']\n",
    "\n",
    "fig = gmaps.figure()\n",
    "fig.add_layer(gmaps.heatmap_layer(locations, weights=weights))\n",
    "fig"
   ]
  },
  {
   "cell_type": "code",
   "execution_count": null,
   "metadata": {},
   "outputs": [],
   "source": [
    "m = gmaps.Map()\n",
    "heatmap_layer = gmaps.Heatmap(data=weighted_coordinates)\n",
    "m.add_layer(heatmap_layer)\n",
    "m"
   ]
  }
 ],
 "metadata": {
  "kernelspec": {
   "display_name": "Python [conda env:learn-env] *",
   "language": "python",
   "name": "conda-env-learn-env-py"
  },
  "language_info": {
   "codemirror_mode": {
    "name": "ipython",
    "version": 3
   },
   "file_extension": ".py",
   "mimetype": "text/x-python",
   "name": "python",
   "nbconvert_exporter": "python",
   "pygments_lexer": "ipython3",
   "version": "3.6.6"
  }
 },
 "nbformat": 4,
 "nbformat_minor": 2
}
