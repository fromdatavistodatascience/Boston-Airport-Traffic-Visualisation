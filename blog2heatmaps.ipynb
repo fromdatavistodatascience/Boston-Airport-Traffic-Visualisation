{
 "cells": [
  {
   "cell_type": "markdown",
   "metadata": {},
   "source": [
    "# Visualising the traffic around Boston Airport"
   ]
  },
  {
   "cell_type": "markdown",
   "metadata": {},
   "source": [
    "Aim of this notebook is to provide a codealong to be able to recreate the traffic from Square One Mall in Saugus, Massachusetts to Boston Logan Airport."
   ]
  },
  {
   "cell_type": "code",
   "execution_count": 1,
   "metadata": {},
   "outputs": [],
   "source": [
    "# Importing the necessary packages:\n",
    "import pandas as pd\n",
    "import numpy as np\n",
    "import json\n",
    "import requests"
   ]
  },
  {
   "cell_type": "code",
   "execution_count": 2,
   "metadata": {},
   "outputs": [],
   "source": [
    "with open('response.json', 'r') as f:\n",
    "    directions = json.load(f)"
   ]
  },
  {
   "cell_type": "code",
   "execution_count": 3,
   "metadata": {},
   "outputs": [
    {
     "data": {
      "text/plain": [
       "dict_keys(['geocoded_waypoints', 'routes', 'status'])"
      ]
     },
     "execution_count": 3,
     "metadata": {},
     "output_type": "execute_result"
    }
   ],
   "source": [
    "directions.keys()"
   ]
  },
  {
   "cell_type": "code",
   "execution_count": 4,
   "metadata": {},
   "outputs": [],
   "source": [
    "route = directions['routes']"
   ]
  },
  {
   "cell_type": "code",
   "execution_count": 5,
   "metadata": {},
   "outputs": [
    {
     "data": {
      "text/plain": [
       "[{'bounds': {'northeast': {'lat': 42.4884743, 'lng': -71.0017644},\n",
       "   'southwest': {'lat': 42.3648458, 'lng': -71.0298}},\n",
       "  'copyrights': 'Map data ©2019',\n",
       "  'legs': [{'distance': {'text': '10.6 mi', 'value': 17070},\n",
       "    'duration': {'text': '23 mins', 'value': 1390},\n",
       "    'duration_in_traffic': {'text': '34 mins', 'value': 2052},\n",
       "    'end_address': 'Boston Logan International Airport 200 Terminal C Towards Gates C25-C36, Around the corner from the TSA Checkpoint, Boston, MA 02128, United States',\n",
       "    'end_location': {'lat': 42.3678408, 'lng': -71.0188776},\n",
       "    'start_address': '323 Broadway, Saugus, MA 01906, USA',\n",
       "    'start_location': {'lat': 42.4882424, 'lng': -71.0177996},\n",
       "    'steps': [{'distance': {'text': '85 ft', 'value': 26},\n",
       "      'duration': {'text': '1 min', 'value': 5},\n",
       "      'end_location': {'lat': 42.4884743, 'lng': -71.0177609},\n",
       "      'html_instructions': 'Head <b>north</b>',\n",
       "      'polyline': {'points': 'onibGftmpLm@G'},\n",
       "      'start_location': {'lat': 42.4882424, 'lng': -71.0177996},\n",
       "      'travel_mode': 'DRIVING'},\n",
       "     {'distance': {'text': '112 ft', 'value': 34},\n",
       "      'duration': {'text': '1 min', 'value': 7},\n",
       "      'end_location': {'lat': 42.4883472, 'lng': -71.0181413},\n",
       "      'html_instructions': 'Sharp <b>left</b> toward <b>Broadway</b>/<b>Newburyport Turnpike</b>',\n",
       "      'maneuver': 'turn-sharp-left',\n",
       "      'polyline': {'points': '}oibG~smpLBTDNJV@L'},\n",
       "      'start_location': {'lat': 42.4884743, 'lng': -71.0177609},\n",
       "      'travel_mode': 'DRIVING'},\n",
       "     {'distance': {'text': '295 ft', 'value': 90},\n",
       "      'duration': {'text': '1 min', 'value': 40},\n",
       "      'end_location': {'lat': 42.4876414, 'lng': -71.01780939999999},\n",
       "      'html_instructions': 'Turn <b>left</b> toward <b>Broadway</b>/<b>Newburyport Turnpike</b>',\n",
       "      'maneuver': 'turn-left',\n",
       "      'polyline': {'points': 'eoibGjvmpL`@FF@B?H?D?DADCBEBEPUJMHEHEBADG'},\n",
       "      'start_location': {'lat': 42.4883472, 'lng': -71.0181413},\n",
       "      'travel_mode': 'DRIVING'},\n",
       "     {'distance': {'text': '2.4 mi', 'value': 3890},\n",
       "      'duration': {'text': '3 mins', 'value': 193},\n",
       "      'end_location': {'lat': 42.4536749, 'lng': -71.0235205},\n",
       "      'html_instructions': 'Turn <b>right</b> onto <b>Broadway</b>/<b>Newburyport Turnpike</b>',\n",
       "      'maneuver': 'turn-right',\n",
       "      'polyline': {'points': 'wjibGhtmpLz@VB@p@XhA^RHtAh@zAl@`A^`FlBzGjCbA`@t@XfBr@xCtA|I`EhCjA~At@^PlBz@@@\\\\Nj@Td@N@?d@Ll@Ln@L@?hATjB\\\\bCd@dDn@B?j@L`BZpAVfDp@`@Hp@NxAVx@P`BZTFXFPBRDRB\\\\DZBN@\\\\DT@T@P?\\\\@^@^?X?NAB?`@An@CVA`@E|AQrBWfAKnBSzBUf@Eb@En@GTCtAO~BUb@EzAMfCWlBQfBSr@Gp@Gp@I|@IVE`@CZCdAGf@C|@Cf@C^Cx@C`@CH?^AzCM\\\\AF?NAnAIJ?dAI`@Ex@Ip@G^Cx@GnAK'},\n",
       "      'start_location': {'lat': 42.4876414, 'lng': -71.01780939999999},\n",
       "      'travel_mode': 'DRIVING'},\n",
       "     {'distance': {'text': '1.7 mi', 'value': 2797},\n",
       "      'duration': {'text': '2 mins', 'value': 127},\n",
       "      'end_location': {'lat': 42.4329843, 'lng': -71.0178897},\n",
       "      'html_instructions': 'Keep <b>left</b> to continue on <b>US-1 S</b>',\n",
       "      'maneuver': 'keep-left',\n",
       "      'polyline': {'points': 'mvbbG~wnpLHA`@?h@?\\\\?|@?tA@`A@~@@j@@rABJ?z@?v@?~@@j@?p@Fb@Bh@Fj@Jv@RZHZHh@RfA`@pAd@nBr@tAh@\\\\LRFTFf@ND@f@LvBj@n@Rd@P^PZPz@d@`@XPLrAhALJlA`ANNDD~@x@RNb@^h@d@RPTPDBNJRLJBHDVHTFLDRDRBL@P@H?N?T?NAPAHANCRCHCNETIHCJETMTOHEHGLMLMRSZ_@@CP[P[\\\\q@HUVm@\\\\aAb@sAvAgE@Eh@_BHWn@gBVs@Ja@HYJa@J[DWNs@Nu@Jc@He@Ja@J_@Rs@JYFOFOHQN[HQNUFKHMLONOj@q@f@g@d@k@|AcB^_@^[HGXSb@YPKNI@AXO^QTKJEHCVKRGPGPE'},\n",
       "      'start_location': {'lat': 42.4536749, 'lng': -71.0235205},\n",
       "      'travel_mode': 'DRIVING'},\n",
       "     {'distance': {'text': '0.2 mi', 'value': 248},\n",
       "      'duration': {'text': '1 min', 'value': 19},\n",
       "      'end_location': {'lat': 42.4309014, 'lng': -71.0185334},\n",
       "      'html_instructions': 'Take the <b>MA-60</b> exit toward <b>Malden</b>/<b>Revere</b>',\n",
       "      'maneuver': 'ramp-right',\n",
       "      'polyline': {'points': 'cu~aGxtmpLLF@?@?~C@bA@N?H?H@HBH@HBFBDBFDDBDBNLNPd@p@'},\n",
       "      'start_location': {'lat': 42.4329843, 'lng': -71.0178897},\n",
       "      'travel_mode': 'DRIVING'},\n",
       "     {'distance': {'text': '1.1 mi', 'value': 1737},\n",
       "      'duration': {'text': '3 mins', 'value': 176},\n",
       "      'end_location': {'lat': 42.4212848, 'lng': -71.0051278},\n",
       "      'html_instructions': 'At the traffic circle, take the <b>3rd</b> exit onto <b>MA-60 E</b>/<b>Squire Rd</b> heading to <b>Logan Airport</b><div style=\"font-size:0.9em\">Pass by Dunkin\\' (on the left in 1.0&nbsp;mi)</div>',\n",
       "      'maneuver': 'roundabout-right',\n",
       "      'polyline': {'points': 'ch~aGxxmpLb@nAp@t@HFNHLHLD@?PDPBb@DfAIPI\\\\[FGVW@AHKFGJSFQ@??CDIBM@ADU@AF_@B]@O?k@AW?YK_AMu@Ce@A_@@[?GB[BOHa@L_@JSFKXe@d@m@TYt@cAt@_A`AqAX_@`AkArAiBl@w@n@{@V_@bAqA~AqBb@k@x@eAfAwAl@y@Ze@\\\\g@|@yAd@}@Tc@Vk@HQn@yATk@Tk@Vs@Zy@`@uA~@_DBKPi@N_@JUJKLG'},\n",
       "      'start_location': {'lat': 42.4309014, 'lng': -71.0185334},\n",
       "      'travel_mode': 'DRIVING'},\n",
       "     {'distance': {'text': '1.0 mi', 'value': 1591},\n",
       "      'duration': {'text': '3 mins', 'value': 188},\n",
       "      'end_location': {'lat': 42.40876979999999, 'lng': -71.0017644},\n",
       "      'html_instructions': 'At the traffic circle, take the <b>2nd</b> exit onto <b>MA-60 E</b> heading to <b>Revere Beach</b>/<b>Boston</b><div style=\"font-size:0.9em\">Pass by Bank of America Financial Center (on the left in 0.9&nbsp;mi)</div>',\n",
       "      'maneuver': 'roundabout-right',\n",
       "      'polyline': {'points': '_l|aG`ekpLFADCJCFEHEHGFKHMDM@M@G?K?K?KAMAMCK@g@BUHe@DUT}@Pe@L_@Ve@BER[`@a@PQBABCHENKb@OTGJCXCRAL?Z@VBNBFBF@JDj@P`@PbAd@^P\\\\L~@`@LFlAh@dAh@x@\\\\VJXHTFTFTDd@Hj@Dd@BJ?`@?b@?^C`@Eh@IVGREFCd@OhAa@bC}@nAc@xAi@z@[x@[VIj@Sh@O`@M\\\\IdAQr@Ix@O`@KPCLAV?l@A'},\n",
       "      'start_location': {'lat': 42.4212848, 'lng': -71.0051278},\n",
       "      'travel_mode': 'DRIVING'},\n",
       "     {'distance': {'text': '2.7 mi', 'value': 4315},\n",
       "      'duration': {'text': '5 mins', 'value': 294},\n",
       "      'end_location': {'lat': 42.3764577, 'lng': -71.0286229},\n",
       "      'html_instructions': 'Continue onto <b>MA-1A S</b>/<b>Revere Beach Pkwy</b><div style=\"font-size:0.9em\">Continue to follow MA-1A S</div><div style=\"font-size:0.9em\">Pass by Starbucks (on the right in 1.3&nbsp;mi)</div>',\n",
       "      'polyline': {'points': 'y}yaG~ojpLRDPBJFNLFDHDXXXZJLTTDDDDTRVLHDHBNDPBN@V?P?VENE`A]l@Sl@QRERGf@E`@?R@VDVFNFHBVLRJj@^XR@@@?BBPLDB@@@@@@B@BBZV~C`C|@p@JHn@f@VRVPx@l@bAt@NJbCfB`At@jAx@XRRNFFhAv@~DvCFDvAdABBx@n@z@n@\\\\VnA`A~@r@f@^ZV^VHFRP`BlA\\\\Vp@f@tB|Ar@j@fBrA|AjAlBvAHFBB@@D@fAx@p@f@f@^b@^HFVT~BfBx@l@ZTbAt@~@t@fBrAPLRNHFFFFHFFBBNPTXTXFLHLFLDHDJFLHR@@HTHTHX@DFTJ^BHH\\\\BLHXBHDJFPBHFNDLHPLXJTJPNTLPJNFHLNTR`@^pB|An@f@LJv@l@r@j@RLPP`@Xz@p@\\\\Xv@l@r@n@pAz@ZRjAn@FBLDNFZV^\\\\BBr@v@BDdBpB^b@~@jA`AhAl@r@TVJJPNHHxAhA`@XzAjAlA|@HHZTXVLLpAvATZDFFHRXx@`At@~@fArAtAbBr@z@'},\n",
       "      'start_location': {'lat': 42.40876979999999, 'lng': -71.0017644},\n",
       "      'travel_mode': 'DRIVING'},\n",
       "     {'distance': {'text': '0.1 mi', 'value': 209},\n",
       "      'duration': {'text': '1 min', 'value': 16},\n",
       "      'end_location': {'lat': 42.3747853, 'lng': -71.0297096},\n",
       "      'html_instructions': 'Continue onto <b>I-90 W</b>',\n",
       "      'polyline': {'points': '{ssaGzwopL|@~@RRTPd@ZJHNHB@PHj@VRHRD\\\\HZD'},\n",
       "      'start_location': {'lat': 42.3764577, 'lng': -71.0286229},\n",
       "      'travel_mode': 'DRIVING'},\n",
       "     {'distance': {'text': '0.3 mi', 'value': 464},\n",
       "      'duration': {'text': '1 min', 'value': 27},\n",
       "      'end_location': {'lat': 42.3711907, 'lng': -71.0274448},\n",
       "      'html_instructions': 'Take the exit toward <b>Logan Airport</b>',\n",
       "      'maneuver': 'ramp-right',\n",
       "      'polyline': {'points': 'misaGt~opLVHH@F@H@`@@T?@?P?NA@?TCHAJATCb@INENEDATINGLGLGNIJIHELIJIHILIDEDEHGJMJKHKPSBEDC@ADCv@cAl@{@\\\\c@Ze@Ze@'},\n",
       "      'start_location': {'lat': 42.3747853, 'lng': -71.0297096},\n",
       "      'travel_mode': 'DRIVING'},\n",
       "     {'distance': {'text': '0.6 mi', 'value': 1008},\n",
       "      'duration': {'text': '1 min', 'value': 82},\n",
       "      'end_location': {'lat': 42.365009, 'lng': -71.0200265},\n",
       "      'html_instructions': 'Keep <b>left</b>, follow signs for <b>Arrivals</b> and merge onto <b>Airport Rd - Arrival Level</b>',\n",
       "      'maneuver': 'keep-left',\n",
       "      'polyline': {'points': '}rraGnpopLNQFIHGJMLKJILILINKRKLGLENGJCLEDALCBCDAFCjBWZENARC`@EVAZAdAC@?@?RAXAJ?FABADAZIPKHEXQHGFIHKFIHOPWLYBGDI?A@ABIVq@@E@APi@HS@CNc@@CL_@BEBIN_@FKBGBKDODSDQDYJ]XqBD[BSDUDUDSDODSDSBKBKBMBMBK@I@CBKDQDMBKDMJWFODK?AFODKBKHUFQDKL]d@qA'},\n",
       "      'start_location': {'lat': 42.3711907, 'lng': -71.0274448},\n",
       "      'travel_mode': 'DRIVING'},\n",
       "     {'distance': {'text': '0.2 mi', 'value': 254},\n",
       "      'duration': {'text': '1 min', 'value': 35},\n",
       "      'end_location': {'lat': 42.3661543, 'lng': -71.0179035},\n",
       "      'html_instructions': 'Keep <b>left</b> to stay on <b>Airport Rd - Arrival Level</b>',\n",
       "      'maneuver': 'keep-left',\n",
       "      'polyline': {'points': 'ilqaGdbnpLHa@FOBI@GBG@I@K?I@IAM?C?E?KAMCMGQO[KOEGEEGGGEy@k@_BkAc@a@'},\n",
       "      'start_location': {'lat': 42.365009, 'lng': -71.0200265},\n",
       "      'travel_mode': 'DRIVING'},\n",
       "     {'distance': {'text': '400 ft', 'value': 122},\n",
       "      'duration': {'text': '1 min', 'value': 21},\n",
       "      'end_location': {'lat': 42.3670589, 'lng': -71.01756759999999},\n",
       "      'html_instructions': 'Turn <b>right</b> onto <b>Airport Rd Terminal C - Arrivals</b>',\n",
       "      'maneuver': 'turn-right',\n",
       "      'polyline': {'points': 'msqaGztmpLG[CQEO?ACGAAAAE?M@c@BE?i@DK@[AKA'},\n",
       "      'start_location': {'lat': 42.3661543, 'lng': -71.0179035},\n",
       "      'travel_mode': 'DRIVING'},\n",
       "     {'distance': {'text': '0.1 mi', 'value': 183},\n",
       "      'duration': {'text': '1 min', 'value': 60},\n",
       "      'end_location': {'lat': 42.3683756, 'lng': -71.0187742},\n",
       "      'html_instructions': 'Continue straight',\n",
       "      'maneuver': 'straight',\n",
       "      'polyline': {'points': 'cyqaGxrmpLA?A?A@A@CDCFQ^?@GLQZORKPKHCBOPOLMHIFKHMF[LQDKBS@'},\n",
       "      'start_location': {'lat': 42.3670589, 'lng': -71.01756759999999},\n",
       "      'travel_mode': 'DRIVING'},\n",
       "     {'distance': {'text': '335 ft', 'value': 102},\n",
       "      'duration': {'text': '2 mins', 'value': 100},\n",
       "      'end_location': {'lat': 42.3678408, 'lng': -71.0188776},\n",
       "      'html_instructions': 'Turn <b>left</b><div style=\"font-size:0.9em\">Destination will be on the left</div>',\n",
       "      'maneuver': 'turn-left',\n",
       "      'polyline': {'points': 'karaGhzmpLAR?DBHDDJHJJHJLLFDD@B?D?BCBC@IH_@FY'},\n",
       "      'start_location': {'lat': 42.3683756, 'lng': -71.0187742},\n",
       "      'travel_mode': 'DRIVING'}],\n",
       "    'traffic_speed_entry': [],\n",
       "    'via_waypoint': []}],\n",
       "  'overview_polyline': {'points': 'onibGftmpLm@GBTPf@@L`@FJ@N?JEXa@^YHI~@XdFlBzSfIxBz@`GhCfRtIlClApAd@f@LhDp@xKrBnRvDbDn@dAN~ALdBDlAAjCMpEi@vD_@vFi@hU{BtEc@zCUrHYpEQbEYdE]xAMjA?rFBjEF~E@tAJtARrA\\\\dA\\\\~IdDnBl@tEnAdAb@vAv@r@f@`BtAbDpCtBfBZTb@XbAZbAP`A@z@IbAWTIj@]n@i@n@s@R_@n@mA`@cAzCcJzBsGl@yBp@eDt@{Cd@kAp@oArA_BjEwEh@c@|@m@|@g@jAg@nAa@NFtFBf@FVJb@Zt@bAb@nAp@t@XPZNhANfAIPId@c@j@m@Ti@JYFWJ}@?mBYuBEeA@c@Fk@VaAR_@jCqDrE}FhE}F`GuHtBqCx@mAbBwCl@oAdBcEr@mB`BuFTu@Zu@XSLERIRMPYF[@k@C[CK@g@L{@ZsA^eAZk@R[`@a@TSLIr@[`@Kl@Eh@@f@FfA\\\\bDvAlAh@rCrApAh@n@Pj@LpANp@BdA?`AI`AQjC{@hJgDpAe@tAc@~@WxB[zA[^EdAAd@Hl@`@tAxAJJl@`@RH`@Hf@@h@ElDiAf@MhAEj@Ff@N`@P~@j@`@XZTnG|ErLzIjN`KdWrRrHvFTN`LtI~HbGb@f@|@nAp@|Az@`Dl@hBn@rAp@`Ab@b@rC|BhDlCbCjBtAfAdCjBfBbATHj@^b@`@|DrEdE`F\\\\ZbBrAtElDt@l@~AdBv@fAlGxHpBzBh@d@dAp@pAj@dB^PBj@Bx@Al@Gx@M^Kx@[h@[l@c@b@]r@y@PO~CiE|@iAr@m@~@i@v@W\\\\K~Cc@hBMhAC`AEHCl@Ub@WPQZe@h@cADMhA_Dr@gBTaAPw@^mCTsATcA\\\\_BfCiHVcAFg@?a@AYK_@[k@KMiDeCc@a@G[Ia@GM}@Du@Fg@CGBYn@u@nAo@l@q@b@m@R_@DAXHNn@n@LFH?FGJi@FY'},\n",
       "  'summary': 'US-1 S and MA-1A S',\n",
       "  'warnings': [],\n",
       "  'waypoint_order': []}]"
      ]
     },
     "execution_count": 5,
     "metadata": {},
     "output_type": "execute_result"
    }
   ],
   "source": [
    "route"
   ]
  },
  {
   "cell_type": "code",
   "execution_count": 82,
   "metadata": {},
   "outputs": [],
   "source": [
    "duration_in_traffic = None\n",
    "root_steps = []\n",
    "for legs in route:\n",
    "    for steps in legs['legs']:\n",
    "        for coordinates in steps['steps']:\n",
    "            root_steps.append(coordinates['start_location'])\n",
    "        root_steps.append(coordinates['end_location'])\n",
    "    duration_in_traffic = steps['duration_in_traffic']['text']\n",
    "\n",
    "#Chosen to only select the start coordinate of each step given that the end coordinate of step 0 \n",
    "#is the start coordinate of step 1. The last coordinate is added at the end of the loop."
   ]
  },
  {
   "cell_type": "code",
   "execution_count": 24,
   "metadata": {},
   "outputs": [],
   "source": [
    "# Unpacking the root_steps list to retrieve only latitude and longitude data. Adding weights to represent different\n",
    "# traffic congestions at each step of the root.\n",
    "\n",
    "weighted_coordinates = [(root_step['lat'], root_step['lng'], np.random.randint(1,4) ) for root_step in root_steps]"
   ]
  },
  {
   "cell_type": "code",
   "execution_count": 25,
   "metadata": {},
   "outputs": [],
   "source": [
    "weighted_coordinates_df = pd.DataFrame(weighted_coordinates,\n",
    "                                       index=range(1, len(weighted_coordinates)+1),\n",
    "                                       columns=['latitude', 'longitude', 'weight'])"
   ]
  },
  {
   "cell_type": "code",
   "execution_count": 26,
   "metadata": {},
   "outputs": [
    {
     "data": {
      "text/html": [
       "<div>\n",
       "<style scoped>\n",
       "    .dataframe tbody tr th:only-of-type {\n",
       "        vertical-align: middle;\n",
       "    }\n",
       "\n",
       "    .dataframe tbody tr th {\n",
       "        vertical-align: top;\n",
       "    }\n",
       "\n",
       "    .dataframe thead th {\n",
       "        text-align: right;\n",
       "    }\n",
       "</style>\n",
       "<table border=\"1\" class=\"dataframe\">\n",
       "  <thead>\n",
       "    <tr style=\"text-align: right;\">\n",
       "      <th></th>\n",
       "      <th>latitude</th>\n",
       "      <th>longitude</th>\n",
       "      <th>weight</th>\n",
       "    </tr>\n",
       "  </thead>\n",
       "  <tbody>\n",
       "    <tr>\n",
       "      <th>1</th>\n",
       "      <td>42.488242</td>\n",
       "      <td>-71.017800</td>\n",
       "      <td>2</td>\n",
       "    </tr>\n",
       "    <tr>\n",
       "      <th>2</th>\n",
       "      <td>42.488474</td>\n",
       "      <td>-71.017761</td>\n",
       "      <td>3</td>\n",
       "    </tr>\n",
       "    <tr>\n",
       "      <th>3</th>\n",
       "      <td>42.488347</td>\n",
       "      <td>-71.018141</td>\n",
       "      <td>2</td>\n",
       "    </tr>\n",
       "    <tr>\n",
       "      <th>4</th>\n",
       "      <td>42.487641</td>\n",
       "      <td>-71.017809</td>\n",
       "      <td>2</td>\n",
       "    </tr>\n",
       "    <tr>\n",
       "      <th>5</th>\n",
       "      <td>42.453675</td>\n",
       "      <td>-71.023521</td>\n",
       "      <td>3</td>\n",
       "    </tr>\n",
       "    <tr>\n",
       "      <th>6</th>\n",
       "      <td>42.432984</td>\n",
       "      <td>-71.017890</td>\n",
       "      <td>2</td>\n",
       "    </tr>\n",
       "    <tr>\n",
       "      <th>7</th>\n",
       "      <td>42.430901</td>\n",
       "      <td>-71.018533</td>\n",
       "      <td>3</td>\n",
       "    </tr>\n",
       "    <tr>\n",
       "      <th>8</th>\n",
       "      <td>42.421285</td>\n",
       "      <td>-71.005128</td>\n",
       "      <td>2</td>\n",
       "    </tr>\n",
       "    <tr>\n",
       "      <th>9</th>\n",
       "      <td>42.408770</td>\n",
       "      <td>-71.001764</td>\n",
       "      <td>3</td>\n",
       "    </tr>\n",
       "    <tr>\n",
       "      <th>10</th>\n",
       "      <td>42.376458</td>\n",
       "      <td>-71.028623</td>\n",
       "      <td>3</td>\n",
       "    </tr>\n",
       "    <tr>\n",
       "      <th>11</th>\n",
       "      <td>42.374785</td>\n",
       "      <td>-71.029710</td>\n",
       "      <td>3</td>\n",
       "    </tr>\n",
       "    <tr>\n",
       "      <th>12</th>\n",
       "      <td>42.371191</td>\n",
       "      <td>-71.027445</td>\n",
       "      <td>1</td>\n",
       "    </tr>\n",
       "    <tr>\n",
       "      <th>13</th>\n",
       "      <td>42.365009</td>\n",
       "      <td>-71.020027</td>\n",
       "      <td>2</td>\n",
       "    </tr>\n",
       "    <tr>\n",
       "      <th>14</th>\n",
       "      <td>42.366154</td>\n",
       "      <td>-71.017904</td>\n",
       "      <td>3</td>\n",
       "    </tr>\n",
       "    <tr>\n",
       "      <th>15</th>\n",
       "      <td>42.367059</td>\n",
       "      <td>-71.017568</td>\n",
       "      <td>2</td>\n",
       "    </tr>\n",
       "    <tr>\n",
       "      <th>16</th>\n",
       "      <td>42.368376</td>\n",
       "      <td>-71.018774</td>\n",
       "      <td>2</td>\n",
       "    </tr>\n",
       "    <tr>\n",
       "      <th>17</th>\n",
       "      <td>42.367841</td>\n",
       "      <td>-71.018878</td>\n",
       "      <td>1</td>\n",
       "    </tr>\n",
       "  </tbody>\n",
       "</table>\n",
       "</div>"
      ],
      "text/plain": [
       "     latitude  longitude  weight\n",
       "1   42.488242 -71.017800       2\n",
       "2   42.488474 -71.017761       3\n",
       "3   42.488347 -71.018141       2\n",
       "4   42.487641 -71.017809       2\n",
       "5   42.453675 -71.023521       3\n",
       "6   42.432984 -71.017890       2\n",
       "7   42.430901 -71.018533       3\n",
       "8   42.421285 -71.005128       2\n",
       "9   42.408770 -71.001764       3\n",
       "10  42.376458 -71.028623       3\n",
       "11  42.374785 -71.029710       3\n",
       "12  42.371191 -71.027445       1\n",
       "13  42.365009 -71.020027       2\n",
       "14  42.366154 -71.017904       3\n",
       "15  42.367059 -71.017568       2\n",
       "16  42.368376 -71.018774       2\n",
       "17  42.367841 -71.018878       1"
      ]
     },
     "execution_count": 26,
     "metadata": {},
     "output_type": "execute_result"
    }
   ],
   "source": [
    "weighted_coordinates_df"
   ]
  },
  {
   "cell_type": "code",
   "execution_count": 27,
   "metadata": {},
   "outputs": [],
   "source": [
    "def get_keys(path):\n",
    "    with open(path) as f:\n",
    "        return json.load(f)\n",
    "    \n",
    "keys = get_keys(\"/Users/jjherranzsarrion/.secret/google_blog2_api.json\")"
   ]
  },
  {
   "cell_type": "code",
   "execution_count": 30,
   "metadata": {},
   "outputs": [
    {
     "data": {
      "application/vnd.jupyter.widget-view+json": {
       "model_id": "46ef5c3f8638455ba1be43864e160d3d",
       "version_major": 2,
       "version_minor": 0
      },
      "text/plain": [
       "Figure(layout=FigureLayout(height='420px'))"
      ]
     },
     "metadata": {},
     "output_type": "display_data"
    }
   ],
   "source": [
    "import gmaps\n",
    "import gmaps.datasets\n",
    "%matplotlib inline\n",
    "\n",
    "gmaps.configure(api_key=keys['api_key'])\n",
    "\n",
    "locations = weighted_coordinates_df[['latitude', 'longitude']]\n",
    "weights = weighted_coordinates_df['weight']\n",
    "origin = (root_steps[0]['lat'], root_steps[0]['lng'])\n",
    "destination = (root_steps[-1]['lat'], root_steps[-1]['lng'])\n",
    "\n",
    "fig = gmaps.figure()\n",
    "fig.add_layer(gmaps.directions_layer(origin, destination, show_markers=False, stroke_color='blue', stroke_opacity=0.4))\n",
    "fig.add_layer(gmaps.heatmap_layer(locations, weights=weights, opacity=0.8))\n",
    "fig"
   ]
  },
  {
   "cell_type": "code",
   "execution_count": 82,
   "metadata": {},
   "outputs": [
    {
     "data": {
      "text/plain": [
       "range(1, 18)"
      ]
     },
     "execution_count": 82,
     "metadata": {},
     "output_type": "execute_result"
    }
   ],
   "source": [
    "range(1, len(weighted_coordinates)+1)"
   ]
  },
  {
   "cell_type": "code",
   "execution_count": 52,
   "metadata": {},
   "outputs": [
    {
     "data": {
      "text/plain": [
       "42.3678408"
      ]
     },
     "execution_count": 52,
     "metadata": {},
     "output_type": "execute_result"
    }
   ],
   "source": [
    "weighted_coordinates_df['latitude'][len(weighted_coordinates_df)]"
   ]
  },
  {
   "cell_type": "code",
   "execution_count": 98,
   "metadata": {},
   "outputs": [
    {
     "data": {
      "text/plain": [
       "[{'name': ('Origin', 'The moment I realised the state of traffic'),\n",
       "  'location': (42.4882424, -71.0177996)},\n",
       " {'name': 'Boston Logan Airport', 'location': (42.3678408, -71.0188776)}]"
      ]
     },
     "execution_count": 98,
     "metadata": {},
     "output_type": "execute_result"
    }
   ],
   "source": [
    "origin_destination = [{'name': ('Origin', 'The moment I realised the state of traffic'), \n",
    "                           'location': (weighted_coordinates_df['latitude'][1],\n",
    "                                        weighted_coordinates_df['longitude'][1])},\n",
    "                          {'name': 'Boston Logan Airport', \n",
    "                           'location': (weighted_coordinates_df['latitude'][len(weighted_coordinates_df)],\n",
    "                                        weighted_coordinates_df['longitude'][len(weighted_coordinates_df)])}]\n",
    "origin_destination"
   ]
  },
  {
   "cell_type": "code",
   "execution_count": 102,
   "metadata": {},
   "outputs": [
    {
     "data": {
      "text/plain": [
       "['\\n    <dl>\\n    <dt>Origin</dt><dd>The moment I realised the state of traffic',\n",
       " '\\n    <dl>\\n    <dt>B</dt><dd>o']"
      ]
     },
     "execution_count": 102,
     "metadata": {},
     "output_type": "execute_result"
    }
   ],
   "source": [
    "info_box_template = \"\"\"\n",
    "    <dl>\n",
    "    <dt>{name[0]}</dt><dd>{name[1]}\"\"\"\n",
    "markers_info = [info_box_template.format(**marker) for marker in origin_destination]\n",
    "markers_info"
   ]
  },
  {
   "cell_type": "code",
   "execution_count": 103,
   "metadata": {},
   "outputs": [],
   "source": [
    "def colour_coding_line(weighted_coordinates, duration_in_traffic):\n",
    "    fig = gmaps.figure()\n",
    "\n",
    "    origin_destination = [{'name': ('Origin', 'The moment I realised the state of traffic'), \n",
    "                           'location': (weighted_coordinates['latitude'][1],\n",
    "                                        weighted_coordinates['longitude'][1]),\n",
    "                           'ETA': duration_in_traffic},\n",
    "                          {'name': ('Destination', 'Boston Logan Airport'), \n",
    "                           'location': (weighted_coordinates['latitude'][len(weighted_coordinates_df)],\n",
    "                                        weighted_coordinates['longitude'][len(weighted_coordinates_df)]),\n",
    "                           'ETA': duration_in_traffic}]\n",
    "\n",
    "    markers_location = [marker['location'] for marker in origin_destination]\n",
    "    info_box_template = \"\"\"\n",
    "    <dt>{name[0]}</dt><dd>{name[1]}<dd> \n",
    "    <dt>ETA:</dt>{ETA}<dd></p>\n",
    "    \"\"\"\n",
    "    markers_info = [info_box_template.format(**marker) for marker in origin_destination]\n",
    "    marker_layer = gmaps.marker_layer(markers_location, info_box_content=markers_info)\n",
    "    fig.add_layer(marker_layer)\n",
    "    \n",
    "    for i in range(1, len(weighted_coordinates)):\n",
    "        origin = (weighted_coordinates['latitude'][i], weighted_coordinates['longitude'][i])\n",
    "        origin_weight = weighted_coordinates['weight'][i]\n",
    "        destination = (weighted_coordinates['latitude'][i+1], weighted_coordinates['longitude'][i+1])\n",
    "        destination_weight = weighted_coordinates['weight'][i+1]\n",
    "        \n",
    "        if origin_weight == 3:\n",
    "            colour = 'red'\n",
    "        elif origin_weight == 2:\n",
    "            colour = (255,165,0) #tuple to represent orange\n",
    "        else:\n",
    "            colour='green'\n",
    "        \n",
    "        fig.add_layer(gmaps.directions_layer(origin, \n",
    "                                                 destination, \n",
    "                                                 show_markers=False, \n",
    "                                                 stroke_color=colour, \n",
    "                                                 stroke_opacity=0.8))\n",
    "    \n",
    "    return fig"
   ]
  },
  {
   "cell_type": "code",
   "execution_count": 104,
   "metadata": {},
   "outputs": [
    {
     "data": {
      "application/vnd.jupyter.widget-view+json": {
       "model_id": "8c40c0d483084138b1cc4dc581a67372",
       "version_major": 2,
       "version_minor": 0
      },
      "text/plain": [
       "Figure(layout=FigureLayout(height='420px'))"
      ]
     },
     "metadata": {},
     "output_type": "display_data"
    }
   ],
   "source": [
    "colour_coding_line(weighted_coordinates_df, duration_in_traffic)"
   ]
  },
  {
   "cell_type": "code",
   "execution_count": null,
   "metadata": {},
   "outputs": [],
   "source": []
  }
 ],
 "metadata": {
  "kernelspec": {
   "display_name": "Python [conda env:learn-env] *",
   "language": "python",
   "name": "conda-env-learn-env-py"
  },
  "language_info": {
   "codemirror_mode": {
    "name": "ipython",
    "version": 3
   },
   "file_extension": ".py",
   "mimetype": "text/x-python",
   "name": "python",
   "nbconvert_exporter": "python",
   "pygments_lexer": "ipython3",
   "version": "3.6.6"
  }
 },
 "nbformat": 4,
 "nbformat_minor": 2
}
