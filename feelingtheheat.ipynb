{
 "cells": [
  {
   "cell_type": "markdown",
   "metadata": {},
   "source": [
    "# Visualising the traffic around Boston Airport"
   ]
  },
  {
   "cell_type": "markdown",
   "metadata": {},
   "source": [
    "Aim of this notebook is to provide a codealong to be able to recreate the traffic from Sheepfold Dog Park in Stoneham, Massachusetts to Boston Logan Airport."
   ]
  },
  {
   "cell_type": "code",
   "execution_count": 1,
   "metadata": {},
   "outputs": [],
   "source": [
    "# Importing the necessary packages:\n",
    "import pandas as pd\n",
    "import numpy as np\n",
    "import json\n",
    "import requests"
   ]
  },
  {
   "cell_type": "code",
   "execution_count": 74,
   "metadata": {},
   "outputs": [],
   "source": [
    "with open('Parkresponse.json', 'r') as f:\n",
    "    directions = json.load(f)"
   ]
  },
  {
   "cell_type": "code",
   "execution_count": 137,
   "metadata": {},
   "outputs": [],
   "source": [
    "def retrieve_weighted_root(json):\n",
    "    \"\"\"\n",
    "    Input: json file retrieved from googlemaps directions API after a request has\n",
    "    been sent to receive directions for a route between point A and point B. \n",
    "    ---------------------------------------------------------\n",
    "    Outputs: weighted coordinates for the different steps along your route in a \n",
    "    dataframe format and the ETA at your destination.\n",
    "    \"\"\"\n",
    "\n",
    "    route_dict = json['routes']\n",
    "    \n",
    "    duration_in_traffic = None\n",
    "    root_steps = []\n",
    "    for legs in route:\n",
    "        for steps in legs['legs']:\n",
    "            for coordinates in steps['steps']:\n",
    "                root_steps.append(coordinates['start_location'])\n",
    "            root_steps.append(coordinates['end_location'])\n",
    "        duration_in_traffic = steps['duration_in_traffic']['text']\n",
    "\n",
    "#Chosen to only select the start coordinate of each step given that the end coordinate of \n",
    "#step 0 is the start coordinate of step 1. Last coordinate is added at the end of the loop.\n",
    "\n",
    "    weighted_coordinates = ([(root_step['lat'], \n",
    "                              root_step['lng'],\n",
    "                              np.random.randint(1,4)) for root_step in root_steps])\n",
    "    \n",
    "    weighted_coordinates_df = pd.DataFrame(weighted_coordinates,\n",
    "                                           index=range(1, len(weighted_coordinates)+1),\n",
    "                                           columns=['latitude', 'longitude', 'weight'])\n",
    "    \n",
    "    return weighted_coordinates_df, duration_in_traffic"
   ]
  },
  {
   "cell_type": "code",
   "execution_count": 138,
   "metadata": {},
   "outputs": [],
   "source": [
    "weighted_coordinates, duration_in_traffic = retrieve_weighted_root(directions)"
   ]
  },
  {
   "cell_type": "code",
   "execution_count": 139,
   "metadata": {},
   "outputs": [
    {
     "data": {
      "text/html": [
       "<div>\n",
       "<style scoped>\n",
       "    .dataframe tbody tr th:only-of-type {\n",
       "        vertical-align: middle;\n",
       "    }\n",
       "\n",
       "    .dataframe tbody tr th {\n",
       "        vertical-align: top;\n",
       "    }\n",
       "\n",
       "    .dataframe thead th {\n",
       "        text-align: right;\n",
       "    }\n",
       "</style>\n",
       "<table border=\"1\" class=\"dataframe\">\n",
       "  <thead>\n",
       "    <tr style=\"text-align: right;\">\n",
       "      <th></th>\n",
       "      <th>latitude</th>\n",
       "      <th>longitude</th>\n",
       "      <th>weight</th>\n",
       "    </tr>\n",
       "  </thead>\n",
       "  <tbody>\n",
       "    <tr>\n",
       "      <th>1</th>\n",
       "      <td>42.453338</td>\n",
       "      <td>-71.106772</td>\n",
       "      <td>3</td>\n",
       "    </tr>\n",
       "    <tr>\n",
       "      <th>2</th>\n",
       "      <td>42.451445</td>\n",
       "      <td>-71.104786</td>\n",
       "      <td>1</td>\n",
       "    </tr>\n",
       "    <tr>\n",
       "      <th>3</th>\n",
       "      <td>42.451971</td>\n",
       "      <td>-71.104637</td>\n",
       "      <td>2</td>\n",
       "    </tr>\n",
       "    <tr>\n",
       "      <th>4</th>\n",
       "      <td>42.363433</td>\n",
       "      <td>-71.057959</td>\n",
       "      <td>3</td>\n",
       "    </tr>\n",
       "    <tr>\n",
       "      <th>5</th>\n",
       "      <td>42.362142</td>\n",
       "      <td>-71.056596</td>\n",
       "      <td>3</td>\n",
       "    </tr>\n",
       "    <tr>\n",
       "      <th>6</th>\n",
       "      <td>42.362611</td>\n",
       "      <td>-71.053952</td>\n",
       "      <td>2</td>\n",
       "    </tr>\n",
       "    <tr>\n",
       "      <th>7</th>\n",
       "      <td>42.372470</td>\n",
       "      <td>-71.034031</td>\n",
       "      <td>1</td>\n",
       "    </tr>\n",
       "    <tr>\n",
       "      <th>8</th>\n",
       "      <td>42.371191</td>\n",
       "      <td>-71.027445</td>\n",
       "      <td>1</td>\n",
       "    </tr>\n",
       "    <tr>\n",
       "      <th>9</th>\n",
       "      <td>42.364970</td>\n",
       "      <td>-71.020226</td>\n",
       "      <td>3</td>\n",
       "    </tr>\n",
       "    <tr>\n",
       "      <th>10</th>\n",
       "      <td>42.365821</td>\n",
       "      <td>-71.018036</td>\n",
       "      <td>2</td>\n",
       "    </tr>\n",
       "    <tr>\n",
       "      <th>11</th>\n",
       "      <td>42.366909</td>\n",
       "      <td>-71.017469</td>\n",
       "      <td>1</td>\n",
       "    </tr>\n",
       "  </tbody>\n",
       "</table>\n",
       "</div>"
      ],
      "text/plain": [
       "     latitude  longitude  weight\n",
       "1   42.453338 -71.106772       3\n",
       "2   42.451445 -71.104786       1\n",
       "3   42.451971 -71.104637       2\n",
       "4   42.363433 -71.057959       3\n",
       "5   42.362142 -71.056596       3\n",
       "6   42.362611 -71.053952       2\n",
       "7   42.372470 -71.034031       1\n",
       "8   42.371191 -71.027445       1\n",
       "9   42.364970 -71.020226       3\n",
       "10  42.365821 -71.018036       2\n",
       "11  42.366909 -71.017469       1"
      ]
     },
     "execution_count": 139,
     "metadata": {},
     "output_type": "execute_result"
    }
   ],
   "source": [
    "weighted_coordinates"
   ]
  },
  {
   "cell_type": "code",
   "execution_count": 10,
   "metadata": {},
   "outputs": [],
   "source": [
    "def get_keys(path):\n",
    "    \"\"\"\n",
    "    Input: path from my local computer to the files where api keys are stored.\n",
    "    -----------------------------------------------------------\n",
    "    Output: access to my the desired file.\n",
    "    \"\"\"\n",
    "    \n",
    "    with open(path) as f:\n",
    "        return json.load(f)\n",
    "    \n",
    "keys = get_keys(\"/Users/jjherranzsarrion/.secret/google_blog2_api.json\")"
   ]
  },
  {
   "cell_type": "code",
   "execution_count": 125,
   "metadata": {},
   "outputs": [],
   "source": [
    "import gmaps\n",
    "import gmaps.datasets\n",
    "%matplotlib inline\n",
    "\n",
    "gmaps.configure(api_key=keys['api_key'])\n",
    "\n",
    "def colour_coding_line(weighted_coordinates, duration_in_traffic):\n",
    "    \"\"\"\n",
    "    Inputs: a dataframe that contains coordinates for a route between point A and point B,\n",
    "    and the ETA at your destination.\n",
    "    -----------------------------------------------------------\n",
    "    Output: a polyline between point A and point B overlaying google maps as well as \n",
    "    the traffic information between these points represented by such polyline colour coded.\n",
    "    \"\"\"\n",
    "    \n",
    "    fig = gmaps.figure()\n",
    "\n",
    "    origin_destination = [{'name': ('Origin', 'The moment I realised the state of traffic'), \n",
    "                           'location': (weighted_coordinates['latitude'][1],\n",
    "                                        weighted_coordinates['longitude'][1]),\n",
    "                           'ETA': duration_in_traffic},\n",
    "                          {'name': ('Destination', 'Boston Logan Airport'), \n",
    "                           'location': (weighted_coordinates['latitude'][len(weighted_coordinates_df)],\n",
    "                                        weighted_coordinates['longitude'][len(weighted_coordinates_df)]),\n",
    "                           'ETA': duration_in_traffic}]\n",
    "\n",
    "    markers_location = [marker['location'] for marker in origin_destination]\n",
    "    info_box_template = \"\"\"\n",
    "    <dt>{name[0]}</dt><dd>{name[1]}<dd> \n",
    "    <dt>ETA:</dt>{ETA}<dd></p>\n",
    "    \"\"\"\n",
    "    markers_info = [info_box_template.format(**marker) for marker in origin_destination]\n",
    "    marker_layer = gmaps.marker_layer(markers_location, info_box_content=markers_info)\n",
    "    fig.add_layer(marker_layer)\n",
    "    \n",
    "    for i in range(1, len(weighted_coordinates)):\n",
    "        origin = (weighted_coordinates['latitude'][i], weighted_coordinates['longitude'][i])\n",
    "        origin_weight = weighted_coordinates['weight'][i]\n",
    "        destination = (weighted_coordinates['latitude'][i+1], weighted_coordinates['longitude'][i+1])\n",
    "        destination_weight = weighted_coordinates['weight'][i+1]\n",
    "        \n",
    "        if origin_weight == 3:\n",
    "            colour = 'red'\n",
    "        elif origin_weight == 2:\n",
    "            colour = (255,165,0) #tuple to represent orange\n",
    "        else:\n",
    "            colour='green'\n",
    "        \n",
    "        fig.add_layer(gmaps.directions_layer(origin, \n",
    "                                                 destination, \n",
    "                                                 show_markers=False, \n",
    "                                                 stroke_color=colour, \n",
    "                                                 stroke_opacity=0.8))\n",
    "    \n",
    "    return fig"
   ]
  },
  {
   "cell_type": "code",
   "execution_count": 140,
   "metadata": {},
   "outputs": [
    {
     "data": {
      "application/vnd.jupyter.widget-view+json": {
       "model_id": "cddb8831b9594c9688f194204ef8db62",
       "version_major": 2,
       "version_minor": 0
      },
      "text/plain": [
       "Figure(layout=FigureLayout(height='420px'))"
      ]
     },
     "metadata": {},
     "output_type": "display_data"
    }
   ],
   "source": [
    "colour_coding_line(weighted_coordinates, duration_in_traffic)"
   ]
  },
  {
   "cell_type": "code",
   "execution_count": null,
   "metadata": {},
   "outputs": [],
   "source": []
  }
 ],
 "metadata": {
  "kernelspec": {
   "display_name": "Python [conda env:learn-env] *",
   "language": "python",
   "name": "conda-env-learn-env-py"
  },
  "language_info": {
   "codemirror_mode": {
    "name": "ipython",
    "version": 3
   },
   "file_extension": ".py",
   "mimetype": "text/x-python",
   "name": "python",
   "nbconvert_exporter": "python",
   "pygments_lexer": "ipython3",
   "version": "3.6.6"
  }
 },
 "nbformat": 4,
 "nbformat_minor": 2
}
